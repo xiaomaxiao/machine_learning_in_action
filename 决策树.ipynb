{
 "cells": [
  {
   "cell_type": "code",
   "execution_count": 2,
   "metadata": {
    "collapsed": false
   },
   "outputs": [
    {
     "name": "stdout",
     "output_type": "stream",
     "text": [
      "The autoreload extension is already loaded. To reload it, use:\n",
      "  %reload_ext autoreload\n"
     ]
    }
   ],
   "source": [
    "%load_ext autoreload\n",
    "%autoreload 2\n",
    "%matplotlib inline"
   ]
  },
  {
   "cell_type": "markdown",
   "metadata": {},
   "source": [
    "# 决策树构造"
   ]
  },
  {
   "cell_type": "markdown",
   "metadata": {
    "heading_collapsed": true
   },
   "source": [
    "## 计算信息熵"
   ]
  },
  {
   "cell_type": "code",
   "execution_count": 4,
   "metadata": {
    "collapsed": true,
    "hidden": true
   },
   "outputs": [],
   "source": [
    "from math import log\n",
    "def calcShannonENT(dataset):\n",
    "    '''\n",
    "    计算信息熵\n",
    "    '''\n",
    "    numEntries = len(dataset)\n",
    "    labelCounts = {}\n",
    "    for featVec in dataset:\n",
    "        currentLabel = featVec[-1]\n",
    "        if currentLabel not in labelCounts.keys():\n",
    "            labelCounts[currentLabel] =0\n",
    "        labelCounts[currentLabel]+=1\n",
    "    \n",
    "    shannonEnt =0.0\n",
    "    for key in labelCounts:\n",
    "        prob = labelCounts[key] / numEntries\n",
    "        shannonEnt -=prob * log(prob,2)\n",
    "    return shannonEnt"
   ]
  },
  {
   "cell_type": "code",
   "execution_count": 60,
   "metadata": {
    "collapsed": true,
    "hidden": true
   },
   "outputs": [],
   "source": [
    "def createDataSet():\n",
    "    dataSet = [[1,1,'yes'],\n",
    "              [1,1,'yes'],\n",
    "              [0,1,'no'],\n",
    "              [0,1,'no'],\n",
    "              [1,0,'no']]\n",
    "    labels = ['no surfacing','flippers']\n",
    "    return dataSet,labels"
   ]
  },
  {
   "cell_type": "code",
   "execution_count": 61,
   "metadata": {
    "collapsed": false,
    "hidden": true
   },
   "outputs": [],
   "source": [
    "mydata,_ = createDataSet()"
   ]
  },
  {
   "cell_type": "code",
   "execution_count": 62,
   "metadata": {
    "collapsed": false,
    "hidden": true
   },
   "outputs": [
    {
     "data": {
      "text/plain": [
       "[[1, 1, 'yes'], [1, 1, 'yes'], [0, 1, 'no'], [0, 1, 'no'], [1, 0, 'no']]"
      ]
     },
     "execution_count": 62,
     "metadata": {},
     "output_type": "execute_result"
    }
   ],
   "source": [
    "mydata"
   ]
  },
  {
   "cell_type": "code",
   "execution_count": 63,
   "metadata": {
    "collapsed": false,
    "hidden": true
   },
   "outputs": [
    {
     "data": {
      "text/plain": [
       "0.9709505944546686"
      ]
     },
     "execution_count": 63,
     "metadata": {},
     "output_type": "execute_result"
    }
   ],
   "source": [
    "calcShannonENT(mydata)"
   ]
  },
  {
   "cell_type": "code",
   "execution_count": 64,
   "metadata": {
    "collapsed": false,
    "hidden": true
   },
   "outputs": [],
   "source": [
    "#混合信息越多熵越高\n",
    "mydata[0][-1] = 'maybe'"
   ]
  },
  {
   "cell_type": "code",
   "execution_count": 65,
   "metadata": {
    "collapsed": false,
    "hidden": true
   },
   "outputs": [
    {
     "data": {
      "text/plain": [
       "1.3709505944546687"
      ]
     },
     "execution_count": 65,
     "metadata": {},
     "output_type": "execute_result"
    }
   ],
   "source": [
    "calcShannonENT(mydata)"
   ]
  },
  {
   "cell_type": "markdown",
   "metadata": {
    "heading_collapsed": true
   },
   "source": [
    "## 按指定特征划分数据集"
   ]
  },
  {
   "cell_type": "code",
   "execution_count": 66,
   "metadata": {
    "collapsed": false,
    "hidden": true
   },
   "outputs": [],
   "source": [
    "def splitDataSet(dataset,axis,value):\n",
    "    '''\n",
    "    返回指定特征划分数据集\n",
    "    '''\n",
    "    retDataSet = [] \n",
    "    for featVect in dataset:\n",
    "        if(featVect[axis] == value):\n",
    "            reducedFeatVect = featVect[:axis]\n",
    "            reducedFeatVect.extend(featVect[axis+1:])\n",
    "            retDataSet.append(reducedFeatVect)\n",
    "    return retDataSet"
   ]
  },
  {
   "cell_type": "code",
   "execution_count": 67,
   "metadata": {
    "collapsed": false,
    "hidden": true
   },
   "outputs": [
    {
     "data": {
      "text/plain": [
       "[[1, 1, 'maybe'], [1, 1, 'yes'], [0, 1, 'no'], [0, 1, 'no'], [1, 0, 'no']]"
      ]
     },
     "execution_count": 67,
     "metadata": {},
     "output_type": "execute_result"
    }
   ],
   "source": [
    "mydata"
   ]
  },
  {
   "cell_type": "code",
   "execution_count": 68,
   "metadata": {
    "collapsed": false,
    "hidden": true
   },
   "outputs": [],
   "source": [
    "mydata = splitDataSet(mydata,0,1)"
   ]
  },
  {
   "cell_type": "code",
   "execution_count": 69,
   "metadata": {
    "collapsed": false,
    "hidden": true
   },
   "outputs": [
    {
     "data": {
      "text/plain": [
       "[[1, 'maybe'], [1, 'yes'], [0, 'no']]"
      ]
     },
     "execution_count": 69,
     "metadata": {},
     "output_type": "execute_result"
    }
   ],
   "source": [
    "mydata"
   ]
  },
  {
   "cell_type": "markdown",
   "metadata": {
    "heading_collapsed": true
   },
   "source": [
    "## 选择最好的数据集划分方式"
   ]
  },
  {
   "cell_type": "code",
   "execution_count": 70,
   "metadata": {
    "collapsed": false,
    "hidden": true
   },
   "outputs": [],
   "source": [
    "def chooseBeastFeatureToSplit(dataSet):\n",
    "    dimFeature = len(dataSet[0])-1\n",
    "    baseEntropy = calcShannonENT(dataSet)\n",
    "    bestinfoGain = 0.0    #信息增益 \n",
    "    bestFeature = -1\n",
    "    for dim in range(dimFeature):\n",
    "        featlist = set([example[dim] for example in dataSet])\n",
    "        newEntropy = 0.0\n",
    "        for value in featlist:\n",
    "            subdataset  = splitDataSet(dataSet,dim,value)\n",
    "            prob = len(subdataset) / len(dataSet) \n",
    "            newEntropy+= prob * calcShannonENT(subdataset)\n",
    "        infoGain = baseEntropy - newEntropy\n",
    "        if(infoGain > bestinfoGain):\n",
    "            bestinfoGain = infoGain\n",
    "            bestFeature = dim\n",
    "    return bestFeature"
   ]
  },
  {
   "cell_type": "code",
   "execution_count": 72,
   "metadata": {
    "collapsed": false,
    "hidden": true
   },
   "outputs": [
    {
     "data": {
      "text/plain": [
       "0"
      ]
     },
     "execution_count": 72,
     "metadata": {},
     "output_type": "execute_result"
    }
   ],
   "source": [
    "mydata,_  = createDataSet()\n",
    "chooseBeastFeatureToSplit(mydata)"
   ]
  },
  {
   "cell_type": "markdown",
   "metadata": {
    "heading_collapsed": true
   },
   "source": [
    "## 递归构建决策树"
   ]
  },
  {
   "cell_type": "code",
   "execution_count": 48,
   "metadata": {
    "collapsed": true,
    "hidden": true
   },
   "outputs": [],
   "source": [
    "def majorityCnt(classList):\n",
    "    '''\n",
    "    返回出现次数最多的分类名称\n",
    "    '''\n",
    "    classCount = {}\n",
    "    for vote in classList:\n",
    "        if vote not in classCount.keys():\n",
    "            classCount[vote] = 0 \n",
    "        classCount[vote]+=1\n",
    "    sortedClassCount = sorted(classCount.items(),key = lambda x:x[1],reverse=True)\n",
    "    return sortedClassCount[0][0]"
   ]
  },
  {
   "cell_type": "code",
   "execution_count": 75,
   "metadata": {
    "collapsed": false,
    "hidden": true
   },
   "outputs": [],
   "source": [
    "def createTree(dataset,labels):\n",
    "    #类别完全相同，停止划分\n",
    "    classList = [example[-1] for example in dataset]\n",
    "    if len(set(classList)) == 1:\n",
    "        return classList[0]\n",
    "    #遍历完所有特征时，即splitdata已经划分完所有特征，只剩下label了\n",
    "    #返回出现次数最多的类别\n",
    "    if(len(dataset[0])==1):\n",
    "        return majorityCnt(classList)\n",
    "    ############以上是中止条件######################\n",
    "    \n",
    "    bestFeat = chooseBeastFeatureToSplit(dataset)\n",
    "    bestFeatLabel = labels[bestFeat]\n",
    "    myTree = {bestFeatLabel:{}}\n",
    "    del(labels[bestFeat])\n",
    "    featValues = [example[bestFeat] for example in dataset]\n",
    "    uniqueVals = set(featValues)\n",
    "    for value in uniqueVals:\n",
    "        subLabels = labels[:]  #复制，不改变原labels内容\n",
    "        myTree[bestFeatLabel][value] = createTree(splitDataSet(dataset,bestFeat,value),\n",
    "                                                 subLabels)\n",
    "    return myTree"
   ]
  },
  {
   "cell_type": "code",
   "execution_count": 76,
   "metadata": {
    "collapsed": false,
    "hidden": true
   },
   "outputs": [
    {
     "data": {
      "text/plain": [
       "{'no surfacing': {0: 'no', 1: {'flippers': {0: 'no', 1: 'yes'}}}}"
      ]
     },
     "execution_count": 76,
     "metadata": {},
     "output_type": "execute_result"
    }
   ],
   "source": [
    "mydata,labels = createDataSet()\n",
    "mytree = createTree(mydata,labels)\n",
    "mytree"
   ]
  },
  {
   "cell_type": "markdown",
   "metadata": {},
   "source": [
    "## matplotlib 绘制树形图"
   ]
  },
  {
   "cell_type": "code",
   "execution_count": 77,
   "metadata": {
    "collapsed": true
   },
   "outputs": [],
   "source": [
    "import matplotlib.pyplot as plt"
   ]
  },
  {
   "cell_type": "code",
   "execution_count": 78,
   "metadata": {
    "collapsed": true
   },
   "outputs": [],
   "source": [
    "decisionNode = dict(boxstyle='sawtooth',fc='0.8')\n",
    "leafNode = dict(boxstyle='round4',fc='0.8')\n",
    "arrow_args = dict(arrowstyle='<-')\n",
    "\n",
    "def plotNode(nodeTxt,centerPt,parentPt,nodeType):\n",
    "    createPlot.ax1.annotate(nodeTxt, xy=parentPt,  xycoords='axes fraction', xytext=centerPt, \n",
    "                            textcoords='axes fraction', va=\"center\", ha=\"center\", bbox=nodeType, \n",
    "                            arrowprops=arrow_args)\n",
    "def createPlot():\n",
    "    fig = plt.figure(1, facecolor='white')\n",
    "    fig.clf()\n",
    "    # ticks for demo puropses\n",
    "    createPlot.ax1 = plt.subplot(111, frameon=False)\n",
    "    plotNode('a decision node', (0.5, 0.1), (0.1, 0.5), decisionNode)\n",
    "    plotNode('a leaf node', (0.8, 0.1), (0.3, 0.8), leafNode)\n",
    "    plt.show()"
   ]
  },
  {
   "cell_type": "code",
   "execution_count": 79,
   "metadata": {
    "collapsed": false
   },
   "outputs": [
    {
     "data": {
      "image/png": "[encoded data removed]",
      "text/plain": [
       "<matplotlib.figure.Figure at 0x1944430cbe0>"
      ]
     },
     "metadata": {},
     "output_type": "display_data"
    }
   ],
   "source": [
    "createPlot()"
   ]
  },
  {
   "cell_type": "code",
   "execution_count": 99,
   "metadata": {
    "collapsed": true
   },
   "outputs": [],
   "source": [
    "def getNumLeafs(mytree):\n",
    "    '''\n",
    "    获取叶节点数量\n",
    "    '''\n",
    "    numleafs = 0 \n",
    "    #secondDict = mytree[list(mytree.keys())[0]]\n",
    "    for key,value in mytree.items():\n",
    "        if type(value) ==dict:\n",
    "            numleafs +=getNumLeafs(value)\n",
    "        else:\n",
    "            numleafs +=1\n",
    "    return numleafs"
   ]
  },
  {
   "cell_type": "code",
   "execution_count": 100,
   "metadata": {
    "collapsed": true
   },
   "outputs": [],
   "source": [
    "def getTreeDepth(mytree):\n",
    "    maxdepth = 0 \n",
    "    thisdepth = 0\n",
    "    #secondDict = mytree[list(mytree.keys())[0]]\n",
    "    for key ,value in mytree.items():\n",
    "        if(type(value) == dict):\n",
    "            thisdepth +=getTreeDepth(value)\n",
    "        else:\n",
    "            thisdepth = 1\n",
    "        maxdepth = thisdepth if thisdepth>maxdepth else maxdepth\n",
    "    return maxdepth"
   ]
  },
  {
   "cell_type": "code",
   "execution_count": 101,
   "metadata": {
    "collapsed": true
   },
   "outputs": [],
   "source": [
    "# 测试数据集\n",
    "def retrieveTree(i):\n",
    "    listOfTrees = [\n",
    "        {'no surfacing': {0: 'no', 1: {'flippers': {0: 'no', 1: 'yes'}}}},\n",
    "        {'no surfacing': {0: 'no', 1: {'flippers': {0: {'head': {0: 'no', 1: 'yes'}}, 1: 'no'}}}}\n",
    "    ]\n",
    "    return listOfTrees[i]"
   ]
  },
  {
   "cell_type": "code",
   "execution_count": 103,
   "metadata": {
    "collapsed": false
   },
   "outputs": [
    {
     "name": "stdout",
     "output_type": "stream",
     "text": [
      "{'no surfacing': {0: 'no', 1: {'flippers': {0: 'no', 1: 'yes'}}}}\n",
      "3\n",
      "2\n"
     ]
    }
   ],
   "source": [
    "mytree = retrieveTree(0)\n",
    "print(mytree)\n",
    "print(getNumLeafs(mytree))\n",
    "print(getTreeDepth(mytree))"
   ]
  },
  {
   "cell_type": "code",
   "execution_count": null,
   "metadata": {
    "collapsed": true
   },
   "outputs": [],
   "source": [
    "\n"
   ]
  }
 ],
 "metadata": {
  "anaconda-cloud": {},
  "kernelspec": {
   "display_name": "Python [default]",
   "language": "python",
   "name": "python3"
  },
  "language_info": {
   "codemirror_mode": {
    "name": "ipython",
    "version": 3
   },
   "file_extension": ".py",
   "mimetype": "text/x-python",
   "name": "python",
   "nbconvert_exporter": "python",
   "pygments_lexer": "ipython3",
   "version": "3.5.2"
  }
 },
 "nbformat": 4,
 "nbformat_minor": 1
}
