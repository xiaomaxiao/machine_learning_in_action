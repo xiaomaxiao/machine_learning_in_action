{
 "cells": [
  {
   "cell_type": "code",
   "execution_count": 1,
   "metadata": {
    "collapsed": true
   },
   "outputs": [],
   "source": [
    "%matplotlib inline"
   ]
  },
  {
   "cell_type": "markdown",
   "metadata": {},
   "source": [
    "## Logistic\n",
    "\n",
    "![](data/sigmod.png)"
   ]
  },
  {
   "cell_type": "markdown",
   "metadata": {
    "collapsed": true
   },
   "source": [
    "### logistic 回归梯度上升优化算法"
   ]
  },
  {
   "cell_type": "code",
   "execution_count": 2,
   "metadata": {
    "collapsed": false,
    "scrolled": true
   },
   "outputs": [
    {
     "name": "stdout",
     "output_type": "stream",
     "text": [
      "0.4\n",
      "0.7200000000000001\n",
      "0.976\n",
      "1.1808\n",
      "1.34464\n",
      "1.4757120000000001\n",
      "1.5805696\n",
      "1.66445568\n",
      "1.731564544\n",
      "1.7852516352\n",
      "1.8282013081600001\n",
      "1.862561046528\n",
      "1.8900488372224\n",
      "1.91203906977792\n",
      "1.9296312558223359\n",
      "1.9437050046578688\n",
      "1.954964003726295\n",
      "1.963971202981036\n",
      "1.9711769623848288\n",
      "1.976941569907863\n",
      "1.9815532559262903\n",
      "1.9852426047410323\n",
      "1.9881940837928258\n",
      "1.9905552670342606\n",
      "1.9924442136274085\n",
      "1.9939553709019269\n",
      "1.9951642967215415\n",
      "1.9961314373772332\n",
      "1.9969051499017865\n",
      "1.997524119921429\n",
      "1.9980192959371432\n",
      "1.9984154367497147\n",
      "1.9987323493997717\n",
      "1.9989858795198174\n",
      "1.999188703615854\n",
      "1.999350962892683\n",
      "1.9994807703141464\n",
      "1.9995846162513171\n",
      "1.9996676930010537\n"
     ]
    }
   ],
   "source": [
    "#求函数f(x) = -x^2 + 4x的极大值\n",
    "def Gradient_Ascent_test():\n",
    "    def f_prime(x_old):                                    #f(x)的导数\n",
    "        return -2 * x_old + 4\n",
    "    x_old = -1                                            #初始值，给一个小于x_new的值\n",
    "    x_new = 0                                            #梯度上升算法初始值，即从(0,0)开始\n",
    "    alpha = 0.1                                        #步长，也就是学习速率，控制更新的幅度\n",
    "    presision = 0.0001                                #精度，也就是更新阈值\n",
    "    while abs(x_new - x_old) > presision:\n",
    "        x_old = x_new\n",
    "        x_new = x_old + alpha * f_prime(x_old)            #上面提到的公式\n",
    "        print(x_new) \n",
    "Gradient_Ascent_test()"
   ]
  },
  {
   "cell_type": "code",
   "execution_count": 3,
   "metadata": {
    "collapsed": false
   },
   "outputs": [],
   "source": [
    "import numpy as np \n",
    "\n",
    "def loadDataSet():\n",
    "    dataMat = []\n",
    "    labelMat = []\n",
    "    with open(r'data\\testSet.txt') as f:\n",
    "        for line in f.readlines():\n",
    "            lineArr = line.strip().split()\n",
    "            dataMat.append([1,float(lineArr[0]),float(lineArr[1])])\n",
    "            labelMat.append(int(lineArr[2]))\n",
    "    return dataMat,labelMat"
   ]
  },
  {
   "cell_type": "code",
   "execution_count": 4,
   "metadata": {
    "collapsed": true
   },
   "outputs": [],
   "source": [
    "def sigmoid(x):\n",
    "    return 1.0 / (1 +np.exp(-x))"
   ]
  },
  {
   "cell_type": "code",
   "execution_count": 5,
   "metadata": {
    "collapsed": true
   },
   "outputs": [],
   "source": [
    "def gradAscent(dataMatIn,classLabels):\n",
    "    dataMatrix = np.mat(dataMatIn)\n",
    "    labelMat = np.mat(classLabels).transpose()\n",
    "    m,n = np.shape(dataMatrix)   \n",
    "    alpha = 0.001\n",
    "    maxCycles = 1000\n",
    "    weights = np.ones((n,1))\n",
    "    for k in range(maxCycles):\n",
    "        h = sigmoid(dataMatrix * weights)      # m,n * n,1 = m,1\n",
    "        error = labelMat - h                # m ,1 \n",
    "        weights = weights + alpha * dataMatrix.T * error\n",
    "    return weights"
   ]
  },
  {
   "cell_type": "code",
   "execution_count": 6,
   "metadata": {
    "collapsed": false
   },
   "outputs": [],
   "source": [
    "dataMat , labelMat = loadDataSet()"
   ]
  },
  {
   "cell_type": "code",
   "execution_count": 7,
   "metadata": {
    "collapsed": true
   },
   "outputs": [],
   "source": [
    "weights = gradAscent(dataMat,labelMat)"
   ]
  },
  {
   "cell_type": "code",
   "execution_count": 8,
   "metadata": {
    "collapsed": false
   },
   "outputs": [],
   "source": [
    "weights = np.asarray(weights)\n",
    "weights = weights.reshape(3,)"
   ]
  },
  {
   "cell_type": "code",
   "execution_count": 9,
   "metadata": {
    "collapsed": true
   },
   "outputs": [],
   "source": [
    "import matplotlib.pyplot as plt \n",
    "def plotBestFit(weights):\n",
    "    dataMat , labelMat = loadDataSet()\n",
    "    dataMat = np.array(dataMat)\n",
    "    m = dataMat.shape[0]\n",
    "    xcord1 = [] ; ycord1 = []\n",
    "    xcord2 = [] ; ycord2 = []\n",
    "    \n",
    "    for i in range(m):\n",
    "        if int(labelMat[i]) == 1:\n",
    "            xcord1.append(dataMat[i,1])\n",
    "            ycord1.append(dataMat[i,2])\n",
    "        else:\n",
    "            xcord2.append(dataMat[i,1])\n",
    "            ycord2.append(dataMat[i,2])\n",
    "    fig = plt.figure()\n",
    "    ax = fig.add_subplot(111)\n",
    "    ax.scatter(xcord1,ycord1,s = 30 ,c = 'red',marker = 's')\n",
    "    ax.scatter(xcord2,ycord2,s =30 ,c ='green')\n",
    "    x = np.arange(-3.0,3.0,0.1)\n",
    "    y = (-weights[0] - weights[1] * x) / weights[2]\n",
    "    print(x.shape,y.shape)\n",
    "    ax.plot(x,y)\n",
    "    plt.xlabel('x1')\n",
    "    plt.ylabel('x2')\n",
    "    plt.show()"
   ]
  },
  {
   "cell_type": "code",
   "execution_count": 10,
   "metadata": {
    "collapsed": false
   },
   "outputs": [
    {
     "name": "stdout",
     "output_type": "stream",
     "text": [
      "(60,) (60,)\n"
     ]
    },
    {
     "data": {
      "image/png": "[encoded data removed]",
      "text/plain": [
       "<matplotlib.figure.Figure at 0x1e45d5f4898>"
      ]
     },
     "metadata": {},
     "output_type": "display_data"
    }
   ],
   "source": [
    "\n",
    "plotBestFit(weights)"
   ]
  },
  {
   "cell_type": "code",
   "execution_count": 23,
   "metadata": {
    "collapsed": false
   },
   "outputs": [
    {
     "ename": "TypeError",
     "evalue": "'float' object cannot be interpreted as an integer",
     "output_type": "error",
     "traceback": [
      "\u001b[0;31m---------------------------------------------------------------------------\u001b[0m",
      "\u001b[0;31mTypeError\u001b[0m                                 Traceback (most recent call last)",
      "\u001b[0;32m<ipython-input-23-b7d8317384d6>\u001b[0m in \u001b[0;36m<module>\u001b[0;34m()\u001b[0m\n\u001b[0;32m----> 1\u001b[0;31m \u001b[1;33m[\u001b[0m\u001b[0mi\u001b[0m \u001b[1;32mfor\u001b[0m \u001b[0mi\u001b[0m \u001b[1;32min\u001b[0m \u001b[0mrange\u001b[0m\u001b[1;33m(\u001b[0m\u001b[1;36m1\u001b[0m\u001b[1;33m,\u001b[0m\u001b[1;36m2\u001b[0m\u001b[1;33m,\u001b[0m\u001b[1;36m0.1\u001b[0m\u001b[1;33m)\u001b[0m\u001b[1;33m]\u001b[0m\u001b[1;33m\u001b[0m\u001b[0m\n\u001b[0m",
      "\u001b[0;31mTypeError\u001b[0m: 'float' object cannot be interpreted as an integer"
     ]
    }
   ],
   "source": []
  },
  {
   "cell_type": "code",
   "execution_count": null,
   "metadata": {
    "collapsed": true
   },
   "outputs": [],
   "source": []
  }
 ],
 "metadata": {
  "anaconda-cloud": {},
  "kernelspec": {
   "display_name": "Python [default]",
   "language": "python",
   "name": "python3"
  },
  "language_info": {
   "codemirror_mode": {
    "name": "ipython",
    "version": 3
   },
   "file_extension": ".py",
   "mimetype": "text/x-python",
   "name": "python",
   "nbconvert_exporter": "python",
   "pygments_lexer": "ipython3",
   "version": "3.5.2"
  }
 },
 "nbformat": 4,
 "nbformat_minor": 1
}
